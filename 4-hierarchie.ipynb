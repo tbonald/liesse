{
 "cells": [
  {
   "cell_type": "markdown",
   "metadata": {},
   "source": [
    "# Structure hiérarchique\n",
    "\n",
    "Ce notebook présente des techniques d'analyse de la structure hiérarchique de données par un algorithme agglomératif."
   ]
  },
  {
   "cell_type": "code",
   "execution_count": null,
   "metadata": {},
   "outputs": [],
   "source": [
    "import numpy as np\n",
    "import matplotlib.pyplot as plt\n",
    "from scipy.cluster.hierarchy import dendrogram, cut_tree, linkage"
   ]
  },
  {
   "cell_type": "code",
   "execution_count": null,
   "metadata": {},
   "outputs": [],
   "source": [
    "from sklearn.datasets import load_iris, load_digits"
   ]
  },
  {
   "cell_type": "markdown",
   "metadata": {},
   "source": [
    "## Données"
   ]
  },
  {
   "cell_type": "markdown",
   "metadata": {},
   "source": [
    "### Iris"
   ]
  },
  {
   "cell_type": "code",
   "execution_count": null,
   "metadata": {},
   "outputs": [],
   "source": [
    "iris = load_iris()"
   ]
  },
  {
   "cell_type": "code",
   "execution_count": null,
   "metadata": {},
   "outputs": [],
   "source": [
    "def obtenir_iris():\n",
    "    '''Jeu de donnees Iris.'''    \n",
    "    X = iris.data\n",
    "    y = iris.target\n",
    "    return X, y"
   ]
  },
  {
   "cell_type": "code",
   "execution_count": null,
   "metadata": {},
   "outputs": [],
   "source": [
    "def montrer_iris(X, y, dimensions=[0,1]):\n",
    "    '''Montre les données Iris selon les dimensions choisies.'''        \n",
    "    plt.figure(figsize=(4,4))\n",
    "    for label in np.unique(y):\n",
    "        plt.scatter(X[y==label, dimensions[0]], X[y==label, dimensions[1]], label=iris.target_names[label])\n",
    "    plt.xlabel(iris.feature_names[dimensions[0]])\n",
    "    plt.ylabel(iris.feature_names[dimensions[1]])\n",
    "    plt.legend()\n",
    "    plt.show()"
   ]
  },
  {
   "cell_type": "markdown",
   "metadata": {},
   "source": [
    "### Chiffres"
   ]
  },
  {
   "cell_type": "code",
   "execution_count": null,
   "metadata": {},
   "outputs": [],
   "source": [
    "digits = load_digits()"
   ]
  },
  {
   "cell_type": "code",
   "execution_count": null,
   "metadata": {},
   "outputs": [],
   "source": [
    "def obtenir_chiffres():\n",
    "    '''Jeu de donnees Digits.'''    \n",
    "    X = digits.data\n",
    "    y = digits.target\n",
    "    return X, y"
   ]
  },
  {
   "cell_type": "code",
   "execution_count": null,
   "metadata": {},
   "outputs": [],
   "source": [
    "def montrer_chiffres(X, y, limit_max=10):\n",
    "    '''Montre des chiffres.'''\n",
    "    labels, nombres = np.unique(y, return_counts=True)\n",
    "    nombre_max = min(np.max(nombres), limit_max)\n",
    "    img = np.zeros((100, nombre_max*10))\n",
    "    for i in range(10):\n",
    "        index_label = np.where(y == i)[0][:limit_max]\n",
    "        for j, echantillon in enumerate(index_label):\n",
    "            img[i*10+1:i*10+9,j*10+1:j*10+9] = X[echantillon].reshape((8, 8))\n",
    "    plt.imshow(img, cmap='binary')\n",
    "    plt.xticks([])\n",
    "    plt.yticks(5 + 10*np.arange(10), np.arange(10))"
   ]
  },
  {
   "cell_type": "markdown",
   "metadata": {},
   "source": [
    "## Regroupement hiérarchique"
   ]
  },
  {
   "cell_type": "code",
   "execution_count": null,
   "metadata": {},
   "outputs": [],
   "source": [
    "X, y = obtenir_iris()"
   ]
  },
  {
   "cell_type": "code",
   "execution_count": null,
   "metadata": {},
   "outputs": [],
   "source": [
    "# dendrogram\n",
    "Z = linkage(X, method='ward')"
   ]
  },
  {
   "cell_type": "code",
   "execution_count": null,
   "metadata": {},
   "outputs": [],
   "source": [
    "Z.shape"
   ]
  },
  {
   "cell_type": "code",
   "execution_count": null,
   "metadata": {},
   "outputs": [],
   "source": [
    "plt.figure(figsize = (10, 5))\n",
    "dendrogram(Z, no_labels=True)\n",
    "plt.show()"
   ]
  },
  {
   "cell_type": "markdown",
   "metadata": {},
   "source": [
    "## Coupes d'un dendrogramme"
   ]
  },
  {
   "cell_type": "code",
   "execution_count": null,
   "metadata": {},
   "outputs": [],
   "source": [
    "def trouver_coupe(Z, n_clusters):\n",
    "    '''Partitionne les données en clusters par une coupe du dendrogramme.'''\n",
    "    y_pred = cut_tree(Z, [n_clusters]).ravel()\n",
    "    return y_pred"
   ]
  },
  {
   "cell_type": "code",
   "execution_count": null,
   "metadata": {},
   "outputs": [],
   "source": [
    "y_pred = trouver_coupe(Z, 3)"
   ]
  },
  {
   "cell_type": "code",
   "execution_count": null,
   "metadata": {},
   "outputs": [],
   "source": [
    "montrer_iris(X, y_pred)"
   ]
  },
  {
   "cell_type": "code",
   "execution_count": null,
   "metadata": {},
   "outputs": [],
   "source": [
    "montrer_iris(X, y)"
   ]
  },
  {
   "cell_type": "markdown",
   "metadata": {},
   "source": [
    "## Quelques idées à explorer\n",
    "\n",
    "Pour un jeu de données de votre choix :\n",
    "* Tester les autres méthodes de regroupement (voir la documentation de ``linkage``).\n",
    "* Donner la suite des centres des clusters obtenus par un parcours du dendrogramme depuis une feuille de l'arbre.\n",
    "\n",
    "Pour Iris :\n",
    "* Montrer la suite des cellules de Voronoi d'un échantillon donné (par exemple sur la forme du pétale, pour une fleur de dimensions de sépale médianes), en parcourant l'arbre de la feuille associée à la racine.\n",
    "\n",
    "Pour les chiffres :\n",
    "* Montrer la suite des images associées aux centres des clusters obtenus par un parcours du dendrogramme depuis une feuille de l'arbre.\n",
    "\n",
    "Pour aller plus loin :\n",
    "\n",
    "* Coder son propre algorithme de coupe d'un dendrogramme, puis donner le dendrogramme coupé, chaque feuille de ce dendrogramme correspondant à l'un des clusters trouvés.\n",
    "* Proposer et tester une méthode donnant les $k$ meilleures coupes d'un dendrogramme (par exemple, celles correspondant aux plus grands écarts de hauteur).\n",
    "* Coder et tester son propre algorithme agglomératif, d'abord avec une recherche exhaustive des plus proches voisins, plus par l'algorithme de la [chaîne des plus proches voisins](https://en.wikipedia.org/wiki/Nearest-neighbor_chain_algorithm). \n"
   ]
  }
 ],
 "metadata": {
  "kernelspec": {
   "display_name": "Python 3",
   "language": "python",
   "name": "python3"
  },
  "language_info": {
   "codemirror_mode": {
    "name": "ipython",
    "version": 3
   },
   "file_extension": ".py",
   "mimetype": "text/x-python",
   "name": "python",
   "nbconvert_exporter": "python",
   "pygments_lexer": "ipython3",
   "version": "3.8.3"
  }
 },
 "nbformat": 4,
 "nbformat_minor": 4
}
