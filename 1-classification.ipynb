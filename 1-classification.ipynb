{
 "cells": [
  {
   "cell_type": "markdown",
   "metadata": {},
   "source": [
    "# Classification par plus proches voisins"
   ]
  },
  {
   "cell_type": "code",
   "execution_count": null,
   "metadata": {},
   "outputs": [],
   "source": [
    "import numpy as np\n",
    "import matplotlib.pyplot as plt"
   ]
  },
  {
   "cell_type": "code",
   "execution_count": null,
   "metadata": {},
   "outputs": [],
   "source": [
    "from sklearn.datasets import load_digits, load_iris"
   ]
  },
  {
   "cell_type": "markdown",
   "metadata": {},
   "source": [
    "## Données\n",
    "\n",
    "Quelques jeux de données à classifier."
   ]
  },
  {
   "cell_type": "markdown",
   "metadata": {},
   "source": [
    "### Disque"
   ]
  },
  {
   "cell_type": "code",
   "execution_count": null,
   "metadata": {},
   "outputs": [],
   "source": [
    "def obtenir_disque(n_echantillons=100):\n",
    "    '''Echantillons dans le carre unite; classe 1 si dans le disque unite.'''\n",
    "    X = np.random.uniform(-1, 1, size=(n_echantillons, 2))\n",
    "    y = (np.linalg.norm(X, axis=1) <= 1).astype(int)\n",
    "    return X, y"
   ]
  },
  {
   "cell_type": "code",
   "execution_count": null,
   "metadata": {},
   "outputs": [],
   "source": [
    "X, y = obtenir_disque()"
   ]
  },
  {
   "cell_type": "code",
   "execution_count": null,
   "metadata": {},
   "outputs": [],
   "source": [
    "X.shape"
   ]
  },
  {
   "cell_type": "code",
   "execution_count": null,
   "metadata": {},
   "outputs": [],
   "source": [
    "np.unique(y)"
   ]
  },
  {
   "cell_type": "code",
   "execution_count": null,
   "metadata": {},
   "outputs": [],
   "source": [
    "def montrer_disque(X, y):\n",
    "    plt.figure(figsize=(4,4))\n",
    "    plt.xlim(-1.1, 1.1)\n",
    "    plt.ylim(-1.1, 1.1)\n",
    "    x = np.linspace(-1, 1, 100)\n",
    "    plt.plot(x, np.sqrt(1 - x**2), color='k')\n",
    "    plt.plot(x, -np.sqrt(1 - x**2), color='k')\n",
    "    plt.scatter(X[y==1, 0], X[y==1, 1])\n",
    "    plt.scatter(X[y==0, 0], X[y==0, 1])\n",
    "    plt.xticks([])\n",
    "    plt.yticks([])"
   ]
  },
  {
   "cell_type": "code",
   "execution_count": null,
   "metadata": {},
   "outputs": [],
   "source": [
    "montrer_disque(X, y)"
   ]
  },
  {
   "cell_type": "code",
   "execution_count": null,
   "metadata": {},
   "outputs": [],
   "source": [
    "def montrer_classes(y):\n",
    "    n_classes = len(np.unique(y))\n",
    "    plt.figure(figsize=(n_classes,2))\n",
    "    plt.hist(y, bins=5*n_classes, color='k')\n",
    "    plt.xlabel('Classe')\n",
    "    plt.ylabel('Nombre')\n",
    "    plt.xticks(np.unique(y))\n",
    "    plt.show()"
   ]
  },
  {
   "cell_type": "code",
   "execution_count": null,
   "metadata": {},
   "outputs": [],
   "source": [
    "montrer_classes(y)"
   ]
  },
  {
   "cell_type": "markdown",
   "metadata": {},
   "source": [
    "### Iris"
   ]
  },
  {
   "cell_type": "code",
   "execution_count": null,
   "metadata": {},
   "outputs": [],
   "source": [
    "iris = load_iris()"
   ]
  },
  {
   "cell_type": "code",
   "execution_count": null,
   "metadata": {},
   "outputs": [],
   "source": [
    "# types d'iris\n",
    "print(iris.target_names)"
   ]
  },
  {
   "cell_type": "code",
   "execution_count": null,
   "metadata": {},
   "outputs": [],
   "source": [
    "# caracteristiques\n",
    "print(iris.feature_names)"
   ]
  },
  {
   "cell_type": "code",
   "execution_count": null,
   "metadata": {},
   "outputs": [],
   "source": [
    "def obtenir_iris():\n",
    "    '''Jeu de donnees Iris.'''    \n",
    "    X = iris.data\n",
    "    y = iris.target\n",
    "    return X, y"
   ]
  },
  {
   "cell_type": "code",
   "execution_count": null,
   "metadata": {},
   "outputs": [],
   "source": [
    "X, y = obtenir_iris()"
   ]
  },
  {
   "cell_type": "code",
   "execution_count": null,
   "metadata": {},
   "outputs": [],
   "source": [
    "X.shape"
   ]
  },
  {
   "cell_type": "code",
   "execution_count": null,
   "metadata": {},
   "outputs": [],
   "source": [
    "np.unique(y)"
   ]
  },
  {
   "cell_type": "code",
   "execution_count": null,
   "metadata": {},
   "outputs": [],
   "source": [
    "def montrer_iris(X, y, dimensions=[0,1]):\n",
    "    plt.figure(figsize=(4,4))\n",
    "    for label in np.unique(y):\n",
    "        plt.scatter(X[y==label, dimensions[0]], X[y==label, dimensions[1]], label=iris.target_names[label])\n",
    "    plt.xlabel(iris.feature_names[dimensions[0]])\n",
    "    plt.ylabel(iris.feature_names[dimensions[1]])\n",
    "    plt.legend()\n",
    "    plt.show()"
   ]
  },
  {
   "cell_type": "code",
   "execution_count": null,
   "metadata": {},
   "outputs": [],
   "source": [
    "montrer_iris(X, y, dimensions=[0,1])"
   ]
  },
  {
   "cell_type": "code",
   "execution_count": null,
   "metadata": {},
   "outputs": [],
   "source": [
    "montrer_iris(X, y, dimensions=[2,3])"
   ]
  },
  {
   "cell_type": "code",
   "execution_count": null,
   "metadata": {},
   "outputs": [],
   "source": [
    "montrer_classes(y)"
   ]
  },
  {
   "cell_type": "markdown",
   "metadata": {},
   "source": [
    "### Chiffres"
   ]
  },
  {
   "cell_type": "code",
   "execution_count": null,
   "metadata": {},
   "outputs": [],
   "source": [
    "digits = load_digits()"
   ]
  },
  {
   "cell_type": "code",
   "execution_count": null,
   "metadata": {},
   "outputs": [],
   "source": [
    "def obtenir_chiffres():\n",
    "    '''Jeu de donnees Digits.'''    \n",
    "    X = digits.data\n",
    "    y = digits.target\n",
    "    return X, y"
   ]
  },
  {
   "cell_type": "code",
   "execution_count": null,
   "metadata": {},
   "outputs": [],
   "source": [
    "X, y = obtenir_chiffres()"
   ]
  },
  {
   "cell_type": "code",
   "execution_count": null,
   "metadata": {},
   "outputs": [],
   "source": [
    "X.shape"
   ]
  },
  {
   "cell_type": "code",
   "execution_count": null,
   "metadata": {},
   "outputs": [],
   "source": [
    "np.unique(y)"
   ]
  },
  {
   "cell_type": "code",
   "execution_count": null,
   "metadata": {},
   "outputs": [],
   "source": [
    "def montrer_chiffres(X, y, limit_max=10):\n",
    "    '''Montre une sélection de chiffres.'''\n",
    "    labels, nombres = np.unique(y, return_counts=True)\n",
    "    nombre_max = min(np.max(nombres), limit_max)\n",
    "    img = np.zeros((100, nombre_max*10))\n",
    "    for i in range(10):\n",
    "        index_label = np.where(y == i)[0][:limit_max]\n",
    "        for j, echantillon in enumerate(index_label):\n",
    "            img[i*10+1:i*10+9,j*10+1:j*10+9] = X[echantillon].reshape((8, 8))\n",
    "    plt.imshow(img, cmap='binary')\n",
    "    plt.xticks([])\n",
    "    plt.yticks(5 + 10*np.arange(10), np.arange(10))"
   ]
  },
  {
   "cell_type": "code",
   "execution_count": null,
   "metadata": {},
   "outputs": [],
   "source": [
    "def obtenir_echantillons(X, y, n_echantillons=10):\n",
    "    '''Donne une sélection aléatoire d'échantillons pour chaque classe.'''\n",
    "    index = []\n",
    "    for label in np.unique(y):\n",
    "        index_label = np.where(y == label)[0]\n",
    "        replace = len(index_label) > n_echantillons\n",
    "        index += list(np.random.choice(index_label, size=n_echantillons, replace=replace))\n",
    "    return index"
   ]
  },
  {
   "cell_type": "code",
   "execution_count": null,
   "metadata": {},
   "outputs": [],
   "source": [
    "index = obtenir_echantillons(X, y)\n",
    "montrer_chiffres(X[index], y[index])"
   ]
  },
  {
   "cell_type": "code",
   "execution_count": null,
   "metadata": {},
   "outputs": [],
   "source": [
    "montrer_classes(y)"
   ]
  },
  {
   "cell_type": "markdown",
   "metadata": {},
   "source": [
    "## Partage apprentissage / test\n",
    "\n",
    "Partage d'un jeu de données entre apprentissage et test.  "
   ]
  },
  {
   "cell_type": "code",
   "execution_count": null,
   "metadata": {},
   "outputs": [],
   "source": [
    "def partager_apprentissage_test(X, y, ratio_test=0.2):\n",
    "    '''Partage un jeu de données entre apprentissage et test. La repartition entre classes est conservee.'''\n",
    "    index = []\n",
    "    for label in np.unique(y):\n",
    "        index_label = np.where(y==label)[0]\n",
    "        index += list(np.random.choice(index_label, int(ratio_test * len(index_label)), replace=False))\n",
    "    X_test = X[index]\n",
    "    y_test = y[index]\n",
    "    index_ = np.ones(len(y), dtype=bool)\n",
    "    index_[index] = False\n",
    "    X_app = X[index_]\n",
    "    y_app = y[index_]\n",
    "    return X_app, X_test, y_app, y_test"
   ]
  },
  {
   "cell_type": "code",
   "execution_count": null,
   "metadata": {},
   "outputs": [],
   "source": [
    "X, y = obtenir_iris()"
   ]
  },
  {
   "cell_type": "code",
   "execution_count": null,
   "metadata": {
    "scrolled": true
   },
   "outputs": [],
   "source": [
    "X_app, X_test, y_app, y_test = partager_apprentissage_test(X, y)"
   ]
  },
  {
   "cell_type": "code",
   "execution_count": null,
   "metadata": {},
   "outputs": [],
   "source": [
    "X_app.shape"
   ]
  },
  {
   "cell_type": "code",
   "execution_count": null,
   "metadata": {},
   "outputs": [],
   "source": [
    "montrer_classes(y_app)"
   ]
  },
  {
   "cell_type": "code",
   "execution_count": null,
   "metadata": {},
   "outputs": [],
   "source": [
    "X_test.shape"
   ]
  },
  {
   "cell_type": "code",
   "execution_count": null,
   "metadata": {},
   "outputs": [],
   "source": [
    "montrer_classes(y_test)"
   ]
  },
  {
   "cell_type": "markdown",
   "metadata": {},
   "source": [
    "## Plus proches voisins"
   ]
  },
  {
   "cell_type": "code",
   "execution_count": null,
   "metadata": {},
   "outputs": [],
   "source": [
    "def rechercher_plus_proches_voisins(X_test, X_app, n_voisins=3):\n",
    "    '''Recherche des plus proches voisins. Retourne une matrice de taille (n_test, n_voisins).'''\n",
    "    voisins = []\n",
    "    for x in X_test:\n",
    "        distances = np.linalg.norm(X_app - x, axis=1)\n",
    "        voisins.append(np.argpartition(distances, n_voisins)[:n_voisins])\n",
    "    return np.array(voisins)"
   ]
  },
  {
   "cell_type": "code",
   "execution_count": null,
   "metadata": {},
   "outputs": [],
   "source": [
    "def classifier_plus_proches_voisins(X_test, X_app, y_app, n_voisins=3):\n",
    "    '''Classification par plus proches voisins. Retourne la classe majoritaire.'''\n",
    "    y_pred = []\n",
    "    for x in X_test:\n",
    "        distances = np.linalg.norm(X_app - x, axis=1)\n",
    "        voisins = np.argpartition(distances, n_voisins)[:n_voisins]\n",
    "        labels = y_app[voisins]\n",
    "        labels_unique, compteurs = np.unique(labels, return_counts=True)\n",
    "        y_pred.append(labels_unique[np.argmax(compteurs)])\n",
    "    return np.array(y_pred)"
   ]
  },
  {
   "cell_type": "markdown",
   "metadata": {},
   "source": [
    "### Disque"
   ]
  },
  {
   "cell_type": "code",
   "execution_count": null,
   "metadata": {},
   "outputs": [],
   "source": [
    "X_app, y_app = obtenir_disque()"
   ]
  },
  {
   "cell_type": "code",
   "execution_count": null,
   "metadata": {},
   "outputs": [],
   "source": [
    "montrer_disque(X_app, y_app)"
   ]
  },
  {
   "cell_type": "code",
   "execution_count": null,
   "metadata": {},
   "outputs": [],
   "source": [
    "# centre du carre / sommets du carre\n",
    "X_test = np.array([[0, 0], [1, 1], [-1, 1], [1, -1], [-1, -1]])\n",
    "voisins = rechercher_plus_proches_voisins(X_test, X_app)"
   ]
  },
  {
   "cell_type": "code",
   "execution_count": null,
   "metadata": {},
   "outputs": [],
   "source": [
    "montrer_disque(X_app[voisins], y_app[voisins])"
   ]
  },
  {
   "cell_type": "code",
   "execution_count": null,
   "metadata": {},
   "outputs": [],
   "source": [
    "# classification\n",
    "y_pred = classifier_plus_proches_voisins(X_test, X_app, y_app)"
   ]
  },
  {
   "cell_type": "code",
   "execution_count": null,
   "metadata": {
    "scrolled": true
   },
   "outputs": [],
   "source": [
    "montrer_disque(X_test, y_pred)"
   ]
  },
  {
   "cell_type": "code",
   "execution_count": null,
   "metadata": {},
   "outputs": [],
   "source": [
    "X_test, y_test = obtenir_disque(500)\n",
    "y_pred = classifier_plus_proches_voisins(X_test, X_app, y_app)"
   ]
  },
  {
   "cell_type": "code",
   "execution_count": null,
   "metadata": {},
   "outputs": [],
   "source": [
    "montrer_disque(X_test, y_pred)"
   ]
  },
  {
   "cell_type": "code",
   "execution_count": null,
   "metadata": {},
   "outputs": [],
   "source": [
    "precision = np.sum(y_pred == y_test) / len(y_test)"
   ]
  },
  {
   "cell_type": "code",
   "execution_count": null,
   "metadata": {},
   "outputs": [],
   "source": [
    "np.round(precision, 2)"
   ]
  },
  {
   "cell_type": "markdown",
   "metadata": {},
   "source": [
    "### Iris"
   ]
  },
  {
   "cell_type": "code",
   "execution_count": null,
   "metadata": {},
   "outputs": [],
   "source": [
    "X, y = obtenir_iris()"
   ]
  },
  {
   "cell_type": "code",
   "execution_count": null,
   "metadata": {},
   "outputs": [],
   "source": [
    "X_app, X_test, y_app, y_test = partager_apprentissage_test(X, y)"
   ]
  },
  {
   "cell_type": "code",
   "execution_count": null,
   "metadata": {},
   "outputs": [],
   "source": [
    "y_pred = classifier_plus_proches_voisins(X_test, X_app, y_app)"
   ]
  },
  {
   "cell_type": "code",
   "execution_count": null,
   "metadata": {},
   "outputs": [],
   "source": [
    "precision = np.sum(y_pred == y_test) / len(y_test)"
   ]
  },
  {
   "cell_type": "code",
   "execution_count": null,
   "metadata": {},
   "outputs": [],
   "source": [
    "np.round(precision, 2)"
   ]
  },
  {
   "cell_type": "markdown",
   "metadata": {},
   "source": [
    "### Chiffres"
   ]
  },
  {
   "cell_type": "code",
   "execution_count": null,
   "metadata": {},
   "outputs": [],
   "source": [
    "X, y = obtenir_chiffres()"
   ]
  },
  {
   "cell_type": "code",
   "execution_count": null,
   "metadata": {},
   "outputs": [],
   "source": [
    "X_app, X_test, y_app, y_test = partager_apprentissage_test(X, y)"
   ]
  },
  {
   "cell_type": "code",
   "execution_count": null,
   "metadata": {},
   "outputs": [],
   "source": [
    "# échantillons\n",
    "index = obtenir_echantillons(X_test, y_test, 1)\n",
    "montrer_chiffres(X_test[index], y_test[index])"
   ]
  },
  {
   "cell_type": "code",
   "execution_count": null,
   "metadata": {},
   "outputs": [],
   "source": [
    "voisins = rechercher_plus_proches_voisins(X_test[index], X_app)"
   ]
  },
  {
   "cell_type": "code",
   "execution_count": null,
   "metadata": {
    "scrolled": true
   },
   "outputs": [],
   "source": [
    "index = voisins.flatten()\n",
    "montrer_chiffres(X_app[index], np.repeat(np.arange(10), voisins.shape[1]))"
   ]
  },
  {
   "cell_type": "code",
   "execution_count": null,
   "metadata": {},
   "outputs": [],
   "source": [
    "# classification\n",
    "y_pred = classifier_plus_proches_voisins(X_test, X_app, y_app)"
   ]
  },
  {
   "cell_type": "code",
   "execution_count": null,
   "metadata": {},
   "outputs": [],
   "source": [
    "precision = np.sum(y_pred == y_test) / len(y_test)"
   ]
  },
  {
   "cell_type": "code",
   "execution_count": null,
   "metadata": {},
   "outputs": [],
   "source": [
    "np.round(precision, 2)"
   ]
  },
  {
   "cell_type": "code",
   "execution_count": null,
   "metadata": {},
   "outputs": [],
   "source": [
    "# chiffres mal classés\n",
    "index = np.where(y_pred != y_test)[0]"
   ]
  },
  {
   "cell_type": "code",
   "execution_count": null,
   "metadata": {},
   "outputs": [],
   "source": [
    "montrer_chiffres(X_test[index], y_test[index])"
   ]
  },
  {
   "cell_type": "code",
   "execution_count": null,
   "metadata": {},
   "outputs": [],
   "source": [
    "# classe prédite\n",
    "montrer_chiffres(X_test[index], y_pred[index])"
   ]
  },
  {
   "cell_type": "markdown",
   "metadata": {},
   "source": [
    "## Quelques idées à explorer\n",
    "\n",
    "Pour l'ensemble des jeux de données :\n",
    "* Étudier l'impact du nombre de plus proches voisins.\n",
    "* Étudier la sensibilité au bruit (en perturbant les classes du jeu d'apprentissage).\n",
    "* Retourner un score de confiance (fraction des voisins de classe majoritaire).\n",
    "* Introduire une pondération permettant de donner plus de poids aux voisins les plus proches.\n",
    "\n",
    "Pour le disque :\n",
    "* Montrer les points les plus difficiles à classer.\n",
    "* Changer le modèle (par exemple, deux disques qui s'intersectent).\n",
    "\n",
    "Pour Iris :\n",
    "* Montrer les zones de décision sur la forme du pétale, pour une fleur de dimensions de sépale médianes.\n",
    "* Tester la normalisation de chaque dimension entre 0 (min) et 1 (max).\n",
    "\n",
    "Pour les chiffres :\n",
    "* Montrer les chiffres les plus faciles à classer puis les plus difficiles à classer.\n",
    "* Tester une méthode d'égalisation des images (par exemple, somme des niveaux de gris constante)."
   ]
  }
 ],
 "metadata": {
  "kernelspec": {
   "display_name": "Python 3",
   "language": "python",
   "name": "python3"
  },
  "language_info": {
   "codemirror_mode": {
    "name": "ipython",
    "version": 3
   },
   "file_extension": ".py",
   "mimetype": "text/x-python",
   "name": "python",
   "nbconvert_exporter": "python",
   "pygments_lexer": "ipython3",
   "version": "3.8.3"
  }
 },
 "nbformat": 4,
 "nbformat_minor": 4
}
