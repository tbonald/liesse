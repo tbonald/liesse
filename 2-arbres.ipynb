{
 "cells": [
  {
   "cell_type": "markdown",
   "metadata": {},
   "source": [
    "# Arbres k-dimensionnels\n",
    "\n",
    "Ce notebook présente la recherche arborescente de plus proches voisins en dimension quelconque."
   ]
  },
  {
   "cell_type": "code",
   "execution_count": null,
   "metadata": {},
   "outputs": [],
   "source": [
    "import numpy as np\n",
    "import matplotlib.pyplot as plt"
   ]
  },
  {
   "cell_type": "code",
   "execution_count": null,
   "metadata": {},
   "outputs": [],
   "source": [
    "from sklearn.datasets import load_digits, fetch_openml"
   ]
  },
  {
   "cell_type": "markdown",
   "metadata": {},
   "source": [
    "## Données"
   ]
  },
  {
   "cell_type": "markdown",
   "metadata": {},
   "source": [
    "### Disque"
   ]
  },
  {
   "cell_type": "code",
   "execution_count": null,
   "metadata": {},
   "outputs": [],
   "source": [
    "def obtenir_disque(n_echantillons=100):\n",
    "    '''Echantillons dans le carre unite; classe 1 si dans le disque unite.'''\n",
    "    X = np.random.uniform(-1, 1, size=(n_echantillons, 2))\n",
    "    y = (np.linalg.norm(X, axis=1) <= 1).astype(int)\n",
    "    return X, y"
   ]
  },
  {
   "cell_type": "code",
   "execution_count": null,
   "metadata": {},
   "outputs": [],
   "source": [
    "def montrer_disque(X, y):\n",
    "    '''Montre les échantillons avec le disque.'''\n",
    "    plt.figure(figsize=(4,4))\n",
    "    plt.xlim(-1.1, 1.1)\n",
    "    plt.ylim(-1.1, 1.1)\n",
    "    x = np.linspace(-1, 1, 100)\n",
    "    plt.plot(x, np.sqrt(1 - x**2), color='k')\n",
    "    plt.plot(x, -np.sqrt(1 - x**2), color='k')\n",
    "    plt.scatter(X[y==1, 0], X[y==1, 1])\n",
    "    plt.scatter(X[y==0, 0], X[y==0, 1])\n",
    "    plt.xticks([])\n",
    "    plt.yticks([])"
   ]
  },
  {
   "cell_type": "markdown",
   "metadata": {},
   "source": [
    "### Chiffres"
   ]
  },
  {
   "cell_type": "code",
   "execution_count": null,
   "metadata": {},
   "outputs": [],
   "source": [
    "digits = load_digits()"
   ]
  },
  {
   "cell_type": "code",
   "execution_count": null,
   "metadata": {},
   "outputs": [],
   "source": [
    "def obtenir_chiffres():\n",
    "    '''Jeu de donnees Digits.'''    \n",
    "    X = digits.data\n",
    "    y = digits.target\n",
    "    return X, y"
   ]
  },
  {
   "cell_type": "code",
   "execution_count": null,
   "metadata": {},
   "outputs": [],
   "source": [
    "def montrer_chiffres(X, y, limit_max=10):\n",
    "    '''Montre des chiffres.'''\n",
    "    labels, nombres = np.unique(y, return_counts=True)\n",
    "    nombre_max = min(np.max(nombres), limit_max)\n",
    "    img = np.zeros((100, nombre_max*10))\n",
    "    for i in range(10):\n",
    "        index_label = np.where(y == i)[0][:limit_max]\n",
    "        for j, echantillon in enumerate(index_label):\n",
    "            img[i*10+1:i*10+9,j*10+1:j*10+9] = X[echantillon].reshape((8, 8))\n",
    "    plt.imshow(img, cmap='binary')\n",
    "    plt.xticks([])\n",
    "    plt.yticks(5 + 10*np.arange(10), np.arange(10))"
   ]
  },
  {
   "cell_type": "markdown",
   "metadata": {},
   "source": [
    "## Partage apprentissage / test"
   ]
  },
  {
   "cell_type": "code",
   "execution_count": null,
   "metadata": {},
   "outputs": [],
   "source": [
    "def partager_apprentissage_test(X, y, ratio_test=0.2):\n",
    "    '''Partage un jeu de données entre apprentissage et test. \n",
    "    La repartition entre classes est conservee.'''\n",
    "    index = []\n",
    "    for label in np.unique(y):\n",
    "        index_label = np.where(y==label)[0]\n",
    "        size = int(ratio_test * len(index_label))\n",
    "        replace = size < len(index_label)\n",
    "        index += list(np.random.choice(index_label, size=size, replace=replace))\n",
    "    X_test = X[index]\n",
    "    y_test = y[index]\n",
    "    index_ = np.ones(len(y), dtype=bool)\n",
    "    index_[index] = False\n",
    "    X_app = X[index_]\n",
    "    y_app = y[index_]\n",
    "    return X_app, X_test, y_app, y_test"
   ]
  },
  {
   "cell_type": "markdown",
   "metadata": {},
   "source": [
    "## Arbre k-dimensionnel\n",
    "\n",
    "Recherche arborescente du plus proche voisin."
   ]
  },
  {
   "cell_type": "code",
   "execution_count": null,
   "metadata": {},
   "outputs": [],
   "source": [
    "class ArbreBoule:\n",
    "    '''Arbre boule. Chaque noeud (sauf les feuilles) contient le centre et le rayon de la boule.'''\n",
    "    def __init__(self, ancetre):\n",
    "        self.ancetre = ancetre\n",
    "        self.index = None\n",
    "        self.centre = None\n",
    "        self.rayon = None\n",
    "        self.gauche = None\n",
    "        self.droit = None"
   ]
  },
  {
   "cell_type": "code",
   "execution_count": null,
   "metadata": {},
   "outputs": [],
   "source": [
    "def construire_arbre(X_app, profondeur=0, index=None, ancetre=None, taille_min=10):\n",
    "    '''Construit un arbre de façon récursive.'''\n",
    "    n_echantillons, n_dimensions = X_app.shape\n",
    "    if profondeur == 0:\n",
    "        index = np.arange(n_echantillons)\n",
    "    arbre = ArbreBoule(ancetre)\n",
    "    if len(index) > taille_min:\n",
    "        # on divise la feuille\n",
    "        axe = profondeur % n_dimensions\n",
    "        median = len(index) // 2\n",
    "        index_median = index[np.argpartition(X_app[index, axe], median)]\n",
    "        centre = index_median[median]\n",
    "        index_gauche = index_median[:median]\n",
    "        index_droit = index_median[median + 1:]\n",
    "        arbre.centre = centre\n",
    "        arbre.rayon = np.max(np.linalg.norm(X_app[index] - X_app[centre], axis=1))\n",
    "        arbre.gauche = construire_arbre(X_app, profondeur + 1, index_gauche, arbre, taille_min)\n",
    "        arbre.droit = construire_arbre(X_app, profondeur + 1, index_droit, arbre, taille_min)\n",
    "    else:\n",
    "        arbre.index = index\n",
    "    return arbre"
   ]
  },
  {
   "cell_type": "code",
   "execution_count": null,
   "metadata": {},
   "outputs": [],
   "source": [
    "def rechercher_feuille(x_test, X_app, arbre, profondeur=0):\n",
    "    '''Recherche récursive de la feuille où se trouve la cible (un seul échantillon).'''\n",
    "    n_dimensions = len(x_test)\n",
    "    if arbre.centre is not None:\n",
    "        axe = profondeur % n_dimensions\n",
    "        centre = arbre.centre\n",
    "        if x_test[axe] <= X_app[centre, axe]:\n",
    "            return rechercher_feuille(x_test, X_app, arbre.gauche, profondeur + 1)\n",
    "        else:\n",
    "            return rechercher_feuille(x_test, X_app, arbre.droit, profondeur + 1)\n",
    "    else:\n",
    "        return arbre"
   ]
  },
  {
   "cell_type": "code",
   "execution_count": null,
   "metadata": {},
   "outputs": [],
   "source": [
    "def rechercher_plus_proche_voisin(x_test, X_app, arbre, distance=np.inf):\n",
    "    '''Recherche récursive du plus proche voisin d'une cible (un seul échantillon).'''\n",
    "    noeud = rechercher_feuille(x_test, X_app, arbre)\n",
    "    index = noeud.index\n",
    "    distances = np.linalg.norm(X_app[index] - x_test, axis=1)\n",
    "    voisin = index[np.argmin(distances)]\n",
    "    distance = np.minimum(np.linalg.norm(X_app[voisin] - x_test), distance)\n",
    "    \n",
    "    while noeud.ancetre is not None:  \n",
    "        ancetre = noeud.ancetre\n",
    "        # on teste le centre de la boule\n",
    "        centre = ancetre.centre\n",
    "        distance_centre = np.linalg.norm(X_app[centre] - x_test)\n",
    "        if distance_centre < distance:\n",
    "            voisin, distance = centre, distance_centre\n",
    "        # on teste l'autre sous-arbre\n",
    "        if noeud == ancetre.gauche:\n",
    "            noeud = ancetre.droit\n",
    "        else:\n",
    "            noeud = ancetre.gauche \n",
    "        if noeud is not None:\n",
    "            if not noeud.centre or np.linalg.norm(X_app[noeud.centre] - x_test) < distance + noeud.rayon:\n",
    "                # on explore le sous-arbre\n",
    "                noeud.ancetre = None\n",
    "                voisin_, distance_ = rechercher_plus_proche_voisin(x_test, X_app, noeud, distance)\n",
    "                if distance_ < distance:\n",
    "                    voisin, distance = voisin_, distance_\n",
    "                noeud.ancetre = ancetre\n",
    "        # on remonte dans l'arbre\n",
    "        noeud = ancetre\n",
    "        \n",
    "    return voisin, distance"
   ]
  },
  {
   "cell_type": "code",
   "execution_count": null,
   "metadata": {},
   "outputs": [],
   "source": [
    "def rechercher_plus_proches_voisins(X_test, X_app, arbre):\n",
    "    '''Recherche récursive des plus proches voisins. \n",
    "    Retourne un vecteur de taille n_test.'''\n",
    "    voisins = []\n",
    "    for x_test in X_test:\n",
    "        voisin, _ = rechercher_plus_proche_voisin(x_test, X_app, arbre)\n",
    "        voisins.append(voisin)       \n",
    "    return voisins"
   ]
  },
  {
   "cell_type": "code",
   "execution_count": null,
   "metadata": {},
   "outputs": [],
   "source": [
    "def classifier_plus_proches_voisins(X_test, X_app, y_app, arbre):\n",
    "    '''Classifier par le plus proche voisin. \n",
    "    Retourne un vecteur de taille n_test.'''\n",
    "    voisins = rechercher_plus_proches_voisins(X_test, X_app, arbre)    \n",
    "    return y_app[voisins]"
   ]
  },
  {
   "cell_type": "markdown",
   "metadata": {},
   "source": [
    "### Disque"
   ]
  },
  {
   "cell_type": "code",
   "execution_count": null,
   "metadata": {},
   "outputs": [],
   "source": [
    "X, y = obtenir_disque(1000)"
   ]
  },
  {
   "cell_type": "code",
   "execution_count": null,
   "metadata": {},
   "outputs": [],
   "source": [
    "X_app, X_test, y_app, y_test = partager_apprentissage_test(X, y)"
   ]
  },
  {
   "cell_type": "code",
   "execution_count": null,
   "metadata": {},
   "outputs": [],
   "source": [
    "arbre = construire_arbre(X_app)"
   ]
  },
  {
   "cell_type": "code",
   "execution_count": null,
   "metadata": {},
   "outputs": [],
   "source": [
    "feuille = rechercher_feuille([0, 0], X_app, arbre)"
   ]
  },
  {
   "cell_type": "code",
   "execution_count": null,
   "metadata": {},
   "outputs": [],
   "source": [
    "montrer_disque(X_app[feuille.index], y_app[feuille.index])"
   ]
  },
  {
   "cell_type": "code",
   "execution_count": null,
   "metadata": {},
   "outputs": [],
   "source": [
    "feuille = rechercher_feuille([1, 1], X_app, arbre)"
   ]
  },
  {
   "cell_type": "code",
   "execution_count": null,
   "metadata": {
    "scrolled": true
   },
   "outputs": [],
   "source": [
    "montrer_disque(X_app[feuille.index], y_app[feuille.index])"
   ]
  },
  {
   "cell_type": "code",
   "execution_count": null,
   "metadata": {},
   "outputs": [],
   "source": [
    "y_pred = classifier_plus_proches_voisins(X_test, X_app, y_app, arbre)"
   ]
  },
  {
   "cell_type": "code",
   "execution_count": null,
   "metadata": {},
   "outputs": [],
   "source": [
    "precision = np.sum(y_pred == y_test) / len(y_test)"
   ]
  },
  {
   "cell_type": "code",
   "execution_count": null,
   "metadata": {},
   "outputs": [],
   "source": [
    "np.round(precision, 2)"
   ]
  },
  {
   "cell_type": "markdown",
   "metadata": {},
   "source": [
    "### Chiffres"
   ]
  },
  {
   "cell_type": "code",
   "execution_count": null,
   "metadata": {},
   "outputs": [],
   "source": [
    "X, y = obtenir_chiffres()"
   ]
  },
  {
   "cell_type": "code",
   "execution_count": null,
   "metadata": {},
   "outputs": [],
   "source": [
    "X_app, X_test, y_app, y_test = partager_apprentissage_test(X, y)"
   ]
  },
  {
   "cell_type": "code",
   "execution_count": null,
   "metadata": {},
   "outputs": [],
   "source": [
    "arbre = construire_arbre(X_app)"
   ]
  },
  {
   "cell_type": "code",
   "execution_count": null,
   "metadata": {},
   "outputs": [],
   "source": [
    "echantillon = np.random.choice(len(X_test))\n",
    "feuille = rechercher_feuille(X_test[echantillon], X_app, arbre)"
   ]
  },
  {
   "cell_type": "code",
   "execution_count": null,
   "metadata": {},
   "outputs": [],
   "source": [
    "y_test[echantillon]"
   ]
  },
  {
   "cell_type": "code",
   "execution_count": null,
   "metadata": {},
   "outputs": [],
   "source": [
    "montrer_chiffres(X_app[feuille.index], y_app[feuille.index])"
   ]
  },
  {
   "cell_type": "code",
   "execution_count": null,
   "metadata": {},
   "outputs": [],
   "source": [
    "voisin, distance = rechercher_plus_proche_voisin(X_test[echantillon], X_app, arbre)"
   ]
  },
  {
   "cell_type": "code",
   "execution_count": null,
   "metadata": {},
   "outputs": [],
   "source": [
    "y_app[voisin]"
   ]
  },
  {
   "cell_type": "code",
   "execution_count": null,
   "metadata": {},
   "outputs": [],
   "source": [
    "y_pred = classifier_plus_proches_voisins(X_test, X_app, y_app, arbre)"
   ]
  },
  {
   "cell_type": "code",
   "execution_count": null,
   "metadata": {},
   "outputs": [],
   "source": [
    "precision = np.sum(y_pred == y_test) / len(y_test)"
   ]
  },
  {
   "cell_type": "code",
   "execution_count": null,
   "metadata": {},
   "outputs": [],
   "source": [
    "np.round(precision, 2)"
   ]
  },
  {
   "cell_type": "markdown",
   "metadata": {},
   "source": [
    "## Quelques idées à explorer\n",
    "\n",
    "* Étendre la recherche aux $k$ plus proches voisins.\n",
    "* Donner la fraction des échantillons explorés pour une recherche.\n",
    "* Coder un arbre avec exploration opportuniste des axes (et non cyclique comme dans le code actuel) ; par exemple, chaque coupe se fait sur l'axe de plus grande étendue (max - min des échantillons sur cet axe)."
   ]
  }
 ],
 "metadata": {
  "kernelspec": {
   "display_name": "Python 3",
   "language": "python",
   "name": "python3"
  },
  "language_info": {
   "codemirror_mode": {
    "name": "ipython",
    "version": 3
   },
   "file_extension": ".py",
   "mimetype": "text/x-python",
   "name": "python",
   "nbconvert_exporter": "python",
   "pygments_lexer": "ipython3",
   "version": "3.8.3"
  }
 },
 "nbformat": 4,
 "nbformat_minor": 4
}
