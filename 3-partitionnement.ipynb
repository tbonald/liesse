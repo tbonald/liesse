{
 "cells": [
  {
   "cell_type": "markdown",
   "metadata": {},
   "source": [
    "# Partitionnement de données\n",
    "\n",
    "Ce notebook présente le partitionnement de données par l'algorithme des $k$-moyennes."
   ]
  },
  {
   "cell_type": "code",
   "execution_count": null,
   "metadata": {},
   "outputs": [],
   "source": [
    "import numpy as np\n",
    "import matplotlib.pyplot as plt"
   ]
  },
  {
   "cell_type": "code",
   "execution_count": null,
   "metadata": {},
   "outputs": [],
   "source": [
    "from sklearn.datasets import load_iris, load_digits"
   ]
  },
  {
   "cell_type": "markdown",
   "metadata": {},
   "source": [
    "## Données"
   ]
  },
  {
   "cell_type": "markdown",
   "metadata": {},
   "source": [
    "### Iris"
   ]
  },
  {
   "cell_type": "code",
   "execution_count": null,
   "metadata": {},
   "outputs": [],
   "source": [
    "iris = load_iris()"
   ]
  },
  {
   "cell_type": "code",
   "execution_count": null,
   "metadata": {},
   "outputs": [],
   "source": [
    "def obtenir_iris():\n",
    "    '''Jeu de données Iris.'''    \n",
    "    X = iris.data\n",
    "    y = iris.target\n",
    "    return X, y"
   ]
  },
  {
   "cell_type": "code",
   "execution_count": null,
   "metadata": {},
   "outputs": [],
   "source": [
    "def montrer_iris(X, y, dimensions=[0,1]):\n",
    "    '''Montre les données Iris selon les dimensions choisies.'''        \n",
    "    plt.figure(figsize=(4,4))\n",
    "    for label in np.unique(y):\n",
    "        plt.scatter(X[y==label, dimensions[0]], X[y==label, dimensions[1]])\n",
    "    plt.xlabel(iris.feature_names[dimensions[0]])\n",
    "    plt.ylabel(iris.feature_names[dimensions[1]])\n",
    "    plt.show()"
   ]
  },
  {
   "cell_type": "markdown",
   "metadata": {},
   "source": [
    "### Chiffres"
   ]
  },
  {
   "cell_type": "code",
   "execution_count": null,
   "metadata": {},
   "outputs": [],
   "source": [
    "digits = load_digits()"
   ]
  },
  {
   "cell_type": "code",
   "execution_count": null,
   "metadata": {},
   "outputs": [],
   "source": [
    "def obtenir_chiffres():\n",
    "    '''Jeu de donnees Digits.'''    \n",
    "    X = digits.data\n",
    "    y = digits.target\n",
    "    return X, y"
   ]
  },
  {
   "cell_type": "code",
   "execution_count": null,
   "metadata": {},
   "outputs": [],
   "source": [
    "def montrer_chiffres(X, y, limit_max=10):\n",
    "    '''Montre des chiffres.'''\n",
    "    labels, nombres = np.unique(y, return_counts=True)\n",
    "    nombre_max = min(np.max(nombres), limit_max)\n",
    "    img = np.zeros((100, nombre_max*10))\n",
    "    for i in range(10):\n",
    "        index_label = np.where(y == i)[0][:limit_max]\n",
    "        for j, echantillon in enumerate(index_label):\n",
    "            img[i*10+1:i*10+9,j*10+1:j*10+9] = X[echantillon].reshape((8, 8))\n",
    "    plt.imshow(img, cmap='binary')\n",
    "    plt.xticks([])\n",
    "    plt.yticks(5 + 10*np.arange(10), np.arange(10))"
   ]
  },
  {
   "cell_type": "markdown",
   "metadata": {},
   "source": [
    "## Algorithme des k-moyennes"
   ]
  },
  {
   "cell_type": "code",
   "execution_count": null,
   "metadata": {},
   "outputs": [],
   "source": [
    "def initialiser_centres(X, n_clusters):\n",
    "    '''Initialise les centres des clusters de façon aléatoire.\n",
    "    Le paramètre n_clusters ne peut excéder len(X).'''\n",
    "    index = np.random.choice(len(X), size=n_clusters, replace=False)\n",
    "    centres = X[index]\n",
    "    return centres"
   ]
  },
  {
   "cell_type": "code",
   "execution_count": null,
   "metadata": {},
   "outputs": [],
   "source": [
    "def trouver_clusters(X, centres):\n",
    "    '''Trouve les clusters à partir des centres (en fonction des distances).'''\n",
    "    distances = []\n",
    "    for x in centres:\n",
    "        distances.append(np.linalg.norm(X - x, axis=1))\n",
    "    distances = np.array(distances)\n",
    "    y = np.argmin(distances, axis=0)\n",
    "    return y"
   ]
  },
  {
   "cell_type": "code",
   "execution_count": null,
   "metadata": {},
   "outputs": [],
   "source": [
    "def trouver_centres(X, y):\n",
    "    '''Trouve les centres à partir des clusters (indiqués par les labels).'''\n",
    "    centres = []\n",
    "    for label in np.unique(y):\n",
    "        centre = np.mean(X[y==label], axis=0)\n",
    "        centres.append(centre)\n",
    "    return np.array(centres)"
   ]
  },
  {
   "cell_type": "code",
   "execution_count": null,
   "metadata": {},
   "outputs": [],
   "source": [
    "def partitionner(X, n_clusters):\n",
    "    '''Partitionne les données par l'algorithme des k-moyennes.'''\n",
    "    centres = initialiser_centres(X, n_clusters)\n",
    "    y = trouver_clusters(X, centres)\n",
    "    y_prev = None\n",
    "    while not np.all(y == y_prev):\n",
    "        y_prev = y.copy()\n",
    "        centres = trouver_centres(X, y)\n",
    "        y = trouver_clusters(X, centres)\n",
    "    return y"
   ]
  },
  {
   "cell_type": "code",
   "execution_count": null,
   "metadata": {},
   "outputs": [],
   "source": [
    "X, y = obtenir_iris()"
   ]
  },
  {
   "cell_type": "code",
   "execution_count": null,
   "metadata": {},
   "outputs": [],
   "source": [
    "centres = initialiser_centres(X, 3)"
   ]
  },
  {
   "cell_type": "code",
   "execution_count": null,
   "metadata": {},
   "outputs": [],
   "source": [
    "y = trouver_clusters(X, centres)"
   ]
  },
  {
   "cell_type": "code",
   "execution_count": null,
   "metadata": {},
   "outputs": [],
   "source": [
    "centres = trouver_centres(X, y)"
   ]
  },
  {
   "cell_type": "code",
   "execution_count": null,
   "metadata": {},
   "outputs": [],
   "source": [
    "y_pred = partitionner(X, 3)"
   ]
  },
  {
   "cell_type": "code",
   "execution_count": null,
   "metadata": {
    "scrolled": true
   },
   "outputs": [],
   "source": [
    "montrer_iris(X, y_pred)"
   ]
  },
  {
   "cell_type": "code",
   "execution_count": null,
   "metadata": {},
   "outputs": [],
   "source": [
    "montrer_iris(X, y)"
   ]
  },
  {
   "cell_type": "markdown",
   "metadata": {},
   "source": [
    "## Quelques idées à explorer\n",
    "\n",
    "Sur l'algorithme des $k$-moyennes :\n",
    "* Coder et tester un algorithme de partitionnement retournant la meilleure de $N$ instances indépendantes des $k$-moyennes (par exemple, $N=100$).\n",
    "* Proposer, coder et tester un autre critère d'arrêt (par exemple, basé sur les positions des centres des clusters). <br> Quel en serait l'avantage ?\n",
    "* Coder et tester l'algorithme des [k-moyennes++](https://fr.wikipedia.org/wiki/K-moyennes#Initialisation).\n",
    "\n",
    "Pour Iris :\n",
    "* Montrer le [diagramme de Voronoi](https://fr.wikipedia.org/wiki/Diagramme_de_Voronoï) associé aux centres des clusters (par exemple sur la forme du pétale, pour une fleur de dimensions de sépale médianes), pour différentes valeurs de $k$ (par exemple, 2, 3, 4, 5).\n",
    "\n",
    "Pour les chiffres :\n",
    "* Montrer 10 représentants de chaque cluster, pour différentes valeurs de $k$ (par exemple 4, 8, 10, 12).\n",
    "* Montrer l'image du centre de chaque cluster, pour différentes valeurs de $k$.\n",
    "\n",
    "Pour aller plus loin :\n",
    "* Proposer et coder une méthode pour comparer les clusters trouvés aux vraies classes.\n",
    "* Tester une forme d'[apprentissage actif](https://fr.wikipedia.org/wiki/Apprentissage_actif) consistant à ne révéler les classes que des échantillons les plus proches des centres des clusters (par exemple, 5\\% des échantillons) et à classifier les autres échantillons par un algorithme des plus proches voisins."
   ]
  }
 ],
 "metadata": {
  "kernelspec": {
   "display_name": "Python 3",
   "language": "python",
   "name": "python3"
  },
  "language_info": {
   "codemirror_mode": {
    "name": "ipython",
    "version": 3
   },
   "file_extension": ".py",
   "mimetype": "text/x-python",
   "name": "python",
   "nbconvert_exporter": "python",
   "pygments_lexer": "ipython3",
   "version": "3.8.3"
  }
 },
 "nbformat": 4,
 "nbformat_minor": 4
}
